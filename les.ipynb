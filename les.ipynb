{
 "cells": [
  {
   "cell_type": "markdown",
   "id": "0e5bac60",
   "metadata": {},
   "source": [
    "# Jupyter notebook voorbeeld - Python basics\n",
    "\n",
    "Dit is een Jupyter notebook. Deze technologie is geschikt voor onderwijs maar word vaak gebruikt door professionelen in de wereld van data science.\n",
    "\n",
    "Jupyter notbooks bestaan uit een lijst van cellen. Er zijn twee types:\n",
    "\n",
    "* Markdown cells (zoals deze) geschikt voor documentatie\n",
    "* Python cells (zoals de volgende) met python code die kan uitgevoerd worden\n",
    "\n",
    "Laten we eens een voorbeeld geven:"
   ]
  },
  {
   "cell_type": "markdown",
   "id": "1d6bc277",
   "metadata": {},
   "source": [
    "## Snelstart Variabelen, expressies en operatoren\n",
    "\n",
    "Python code is een geïnterpreteerde taal en lijn per lijn word ingelezen.\n",
    "Op elke lijn verwacht de interpreter een statement. In deze statements komen expressies voor (en. expression).\n",
    "De eenvoudigste verschijningsvormen van expressies zijn 'literals' (letterlijke waarden) en variabelen.\n",
    "Een statement kan een 'assignment' (toekenning) omvatten. Dit slaat een waarde op in de variabele."
   ]
  },
  {
   "cell_type": "code",
   "execution_count": 6,
   "id": "3b027494",
   "metadata": {},
   "outputs": [],
   "source": [
    "# Assignment to variabele\n",
    "# 'a' variabele, '12' literal\n",
    "\n",
    "a = 12\n",
    "b = 45\n",
    "c = a + b"
   ]
  },
  {
   "cell_type": "markdown",
   "id": "30119fc3",
   "metadata": {},
   "source": [
    "## Functies\n",
    "\n",
    "Python functies definieren functionaliteit. Ze hebben een naam. Je kunt ze gebruiken met de syntax `naam(...)`. Tussen haakjes neemt de functie 0 of meer expressies als parameter. Het eenvoudigste voorbeeld is de `print` functie dat de parameter print naar de console."
   ]
  },
  {
   "cell_type": "code",
   "execution_count": 7,
   "id": "b4f20d32",
   "metadata": {},
   "outputs": [
    {
     "name": "stdout",
     "output_type": "stream",
     "text": [
      "300\n",
      "57\n"
     ]
    }
   ],
   "source": [
    "# Print integer\n",
    "print(300)\n",
    "# Print result we assigned before\n",
    "print(c)"
   ]
  },
  {
   "cell_type": "code",
   "execution_count": 8,
   "id": "c203dbc9",
   "metadata": {},
   "outputs": [
    {
     "name": "stdout",
     "output_type": "stream",
     "text": [
      "6\n"
     ]
    }
   ],
   "source": [
    "# Simple calculator\n",
    "print(1+2+3)"
   ]
  },
  {
   "cell_type": "markdown",
   "id": "9d377875",
   "metadata": {},
   "source": []
  }
 ],
 "metadata": {
  "kernelspec": {
   "display_name": "3.13.2",
   "language": "python",
   "name": "python3"
  },
  "language_info": {
   "codemirror_mode": {
    "name": "ipython",
    "version": 3
   },
   "file_extension": ".py",
   "mimetype": "text/x-python",
   "name": "python",
   "nbconvert_exporter": "python",
   "pygments_lexer": "ipython3",
   "version": "3.13.2"
  }
 },
 "nbformat": 4,
 "nbformat_minor": 5
}
